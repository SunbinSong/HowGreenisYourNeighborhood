{
 "cells": [
  {
   "cell_type": "markdown",
   "id": "541208c2-afb6-4df4-8086-d3163bbe9da5",
   "metadata": {},
   "source": [
    "## Downloading with different categories of tags"
   ]
  },
  {
   "cell_type": "code",
   "execution_count": 6,
   "id": "117999aa-7e39-4526-9b9a-09e1f144c765",
   "metadata": {
    "scrolled": true
   },
   "outputs": [
    {
     "name": "stderr",
     "output_type": "stream",
     "text": [
      "/tmp/ipykernel_13826/3564774858.py:98: UserWarning: Column names longer than 10 characters will be truncated when saved to ESRI Shapefile.\n",
      "  gdf_polygons.to_file(shapefile_name)\n"
     ]
    },
    {
     "name": "stdout",
     "output_type": "stream",
     "text": [
      "Data for Greater_Manchester, natural_tags, 2015 saved successfully.\n"
     ]
    },
    {
     "name": "stderr",
     "output_type": "stream",
     "text": [
      "/tmp/ipykernel_13826/3564774858.py:98: UserWarning: Column names longer than 10 characters will be truncated when saved to ESRI Shapefile.\n",
      "  gdf_polygons.to_file(shapefile_name)\n"
     ]
    },
    {
     "name": "stdout",
     "output_type": "stream",
     "text": [
      "Data for Greater_Manchester, agricultural_tags, 2015 saved successfully.\n"
     ]
    },
    {
     "name": "stderr",
     "output_type": "stream",
     "text": [
      "/tmp/ipykernel_13826/3564774858.py:98: UserWarning: Column names longer than 10 characters will be truncated when saved to ESRI Shapefile.\n",
      "  gdf_polygons.to_file(shapefile_name)\n"
     ]
    },
    {
     "name": "stdout",
     "output_type": "stream",
     "text": [
      "Data for Greater_Manchester, human_managed_green_spaces_tags, 2015 saved successfully.\n"
     ]
    },
    {
     "name": "stderr",
     "output_type": "stream",
     "text": [
      "/tmp/ipykernel_13826/3564774858.py:98: UserWarning: Column names longer than 10 characters will be truncated when saved to ESRI Shapefile.\n",
      "  gdf_polygons.to_file(shapefile_name)\n",
      "/users/songs16/.conda/envs/lse/lib/python3.12/site-packages/geopandas/io/file.py:633: UserWarning: You are attempting to write an empty DataFrame to file. For some drivers, this operation may fail.\n",
      "  _to_file_fiona(df, filename, driver, schema, crs, mode, **kwargs)\n"
     ]
    },
    {
     "name": "stdout",
     "output_type": "stream",
     "text": [
      "Data for Greater_Manchester, urban_green_infrastructure_tags, 2015 saved successfully.\n"
     ]
    },
    {
     "name": "stderr",
     "output_type": "stream",
     "text": [
      "/tmp/ipykernel_13826/3564774858.py:98: UserWarning: Column names longer than 10 characters will be truncated when saved to ESRI Shapefile.\n",
      "  gdf_polygons.to_file(shapefile_name)\n"
     ]
    },
    {
     "name": "stdout",
     "output_type": "stream",
     "text": [
      "Data for Greater_Manchester, grassy_sports_fields_tags, 2015 saved successfully.\n"
     ]
    },
    {
     "name": "stderr",
     "output_type": "stream",
     "text": [
      "/tmp/ipykernel_13826/3564774858.py:98: UserWarning: Column names longer than 10 characters will be truncated when saved to ESRI Shapefile.\n",
      "  gdf_polygons.to_file(shapefile_name)\n"
     ]
    },
    {
     "name": "stdout",
     "output_type": "stream",
     "text": [
      "Data for Greater_Manchester, natural_tags, 2016 saved successfully.\n"
     ]
    },
    {
     "name": "stderr",
     "output_type": "stream",
     "text": [
      "/tmp/ipykernel_13826/3564774858.py:98: UserWarning: Column names longer than 10 characters will be truncated when saved to ESRI Shapefile.\n",
      "  gdf_polygons.to_file(shapefile_name)\n"
     ]
    },
    {
     "name": "stdout",
     "output_type": "stream",
     "text": [
      "Data for Greater_Manchester, agricultural_tags, 2016 saved successfully.\n"
     ]
    },
    {
     "name": "stderr",
     "output_type": "stream",
     "text": [
      "/tmp/ipykernel_13826/3564774858.py:98: UserWarning: Column names longer than 10 characters will be truncated when saved to ESRI Shapefile.\n",
      "  gdf_polygons.to_file(shapefile_name)\n"
     ]
    },
    {
     "name": "stdout",
     "output_type": "stream",
     "text": [
      "Data for Greater_Manchester, human_managed_green_spaces_tags, 2016 saved successfully.\n"
     ]
    },
    {
     "name": "stderr",
     "output_type": "stream",
     "text": [
      "/tmp/ipykernel_13826/3564774858.py:98: UserWarning: Column names longer than 10 characters will be truncated when saved to ESRI Shapefile.\n",
      "  gdf_polygons.to_file(shapefile_name)\n",
      "/users/songs16/.conda/envs/lse/lib/python3.12/site-packages/geopandas/io/file.py:633: UserWarning: You are attempting to write an empty DataFrame to file. For some drivers, this operation may fail.\n",
      "  _to_file_fiona(df, filename, driver, schema, crs, mode, **kwargs)\n"
     ]
    },
    {
     "name": "stdout",
     "output_type": "stream",
     "text": [
      "Data for Greater_Manchester, urban_green_infrastructure_tags, 2016 saved successfully.\n"
     ]
    },
    {
     "name": "stderr",
     "output_type": "stream",
     "text": [
      "/tmp/ipykernel_13826/3564774858.py:98: UserWarning: Column names longer than 10 characters will be truncated when saved to ESRI Shapefile.\n",
      "  gdf_polygons.to_file(shapefile_name)\n"
     ]
    },
    {
     "name": "stdout",
     "output_type": "stream",
     "text": [
      "Data for Greater_Manchester, grassy_sports_fields_tags, 2016 saved successfully.\n"
     ]
    },
    {
     "name": "stderr",
     "output_type": "stream",
     "text": [
      "/tmp/ipykernel_13826/3564774858.py:98: UserWarning: Column names longer than 10 characters will be truncated when saved to ESRI Shapefile.\n",
      "  gdf_polygons.to_file(shapefile_name)\n"
     ]
    },
    {
     "name": "stdout",
     "output_type": "stream",
     "text": [
      "Data for Greater_Manchester, natural_tags, 2017 saved successfully.\n"
     ]
    },
    {
     "name": "stderr",
     "output_type": "stream",
     "text": [
      "/tmp/ipykernel_13826/3564774858.py:98: UserWarning: Column names longer than 10 characters will be truncated when saved to ESRI Shapefile.\n",
      "  gdf_polygons.to_file(shapefile_name)\n"
     ]
    },
    {
     "name": "stdout",
     "output_type": "stream",
     "text": [
      "Data for Greater_Manchester, agricultural_tags, 2017 saved successfully.\n"
     ]
    },
    {
     "name": "stderr",
     "output_type": "stream",
     "text": [
      "/tmp/ipykernel_13826/3564774858.py:98: UserWarning: Column names longer than 10 characters will be truncated when saved to ESRI Shapefile.\n",
      "  gdf_polygons.to_file(shapefile_name)\n"
     ]
    },
    {
     "name": "stdout",
     "output_type": "stream",
     "text": [
      "Data for Greater_Manchester, human_managed_green_spaces_tags, 2017 saved successfully.\n"
     ]
    },
    {
     "name": "stderr",
     "output_type": "stream",
     "text": [
      "/tmp/ipykernel_13826/3564774858.py:98: UserWarning: Column names longer than 10 characters will be truncated when saved to ESRI Shapefile.\n",
      "  gdf_polygons.to_file(shapefile_name)\n",
      "/users/songs16/.conda/envs/lse/lib/python3.12/site-packages/geopandas/io/file.py:633: UserWarning: You are attempting to write an empty DataFrame to file. For some drivers, this operation may fail.\n",
      "  _to_file_fiona(df, filename, driver, schema, crs, mode, **kwargs)\n"
     ]
    },
    {
     "name": "stdout",
     "output_type": "stream",
     "text": [
      "Data for Greater_Manchester, urban_green_infrastructure_tags, 2017 saved successfully.\n"
     ]
    },
    {
     "name": "stderr",
     "output_type": "stream",
     "text": [
      "/tmp/ipykernel_13826/3564774858.py:98: UserWarning: Column names longer than 10 characters will be truncated when saved to ESRI Shapefile.\n",
      "  gdf_polygons.to_file(shapefile_name)\n"
     ]
    },
    {
     "name": "stdout",
     "output_type": "stream",
     "text": [
      "Data for Greater_Manchester, grassy_sports_fields_tags, 2017 saved successfully.\n"
     ]
    },
    {
     "name": "stderr",
     "output_type": "stream",
     "text": [
      "/tmp/ipykernel_13826/3564774858.py:98: UserWarning: Column names longer than 10 characters will be truncated when saved to ESRI Shapefile.\n",
      "  gdf_polygons.to_file(shapefile_name)\n"
     ]
    },
    {
     "name": "stdout",
     "output_type": "stream",
     "text": [
      "Data for Greater_Manchester, natural_tags, 2018 saved successfully.\n"
     ]
    },
    {
     "name": "stderr",
     "output_type": "stream",
     "text": [
      "/tmp/ipykernel_13826/3564774858.py:98: UserWarning: Column names longer than 10 characters will be truncated when saved to ESRI Shapefile.\n",
      "  gdf_polygons.to_file(shapefile_name)\n"
     ]
    },
    {
     "name": "stdout",
     "output_type": "stream",
     "text": [
      "Data for Greater_Manchester, agricultural_tags, 2018 saved successfully.\n"
     ]
    },
    {
     "name": "stderr",
     "output_type": "stream",
     "text": [
      "/tmp/ipykernel_13826/3564774858.py:98: UserWarning: Column names longer than 10 characters will be truncated when saved to ESRI Shapefile.\n",
      "  gdf_polygons.to_file(shapefile_name)\n"
     ]
    },
    {
     "name": "stdout",
     "output_type": "stream",
     "text": [
      "Data for Greater_Manchester, human_managed_green_spaces_tags, 2018 saved successfully.\n"
     ]
    },
    {
     "name": "stderr",
     "output_type": "stream",
     "text": [
      "/tmp/ipykernel_13826/3564774858.py:98: UserWarning: Column names longer than 10 characters will be truncated when saved to ESRI Shapefile.\n",
      "  gdf_polygons.to_file(shapefile_name)\n",
      "/users/songs16/.conda/envs/lse/lib/python3.12/site-packages/geopandas/io/file.py:633: UserWarning: You are attempting to write an empty DataFrame to file. For some drivers, this operation may fail.\n",
      "  _to_file_fiona(df, filename, driver, schema, crs, mode, **kwargs)\n"
     ]
    },
    {
     "name": "stdout",
     "output_type": "stream",
     "text": [
      "Data for Greater_Manchester, urban_green_infrastructure_tags, 2018 saved successfully.\n"
     ]
    },
    {
     "name": "stderr",
     "output_type": "stream",
     "text": [
      "/tmp/ipykernel_13826/3564774858.py:98: UserWarning: Column names longer than 10 characters will be truncated when saved to ESRI Shapefile.\n",
      "  gdf_polygons.to_file(shapefile_name)\n"
     ]
    },
    {
     "name": "stdout",
     "output_type": "stream",
     "text": [
      "Data for Greater_Manchester, grassy_sports_fields_tags, 2018 saved successfully.\n"
     ]
    },
    {
     "name": "stderr",
     "output_type": "stream",
     "text": [
      "/tmp/ipykernel_13826/3564774858.py:98: UserWarning: Column names longer than 10 characters will be truncated when saved to ESRI Shapefile.\n",
      "  gdf_polygons.to_file(shapefile_name)\n"
     ]
    },
    {
     "name": "stdout",
     "output_type": "stream",
     "text": [
      "Data for Greater_Manchester, natural_tags, 2019 saved successfully.\n"
     ]
    },
    {
     "name": "stderr",
     "output_type": "stream",
     "text": [
      "/tmp/ipykernel_13826/3564774858.py:98: UserWarning: Column names longer than 10 characters will be truncated when saved to ESRI Shapefile.\n",
      "  gdf_polygons.to_file(shapefile_name)\n"
     ]
    },
    {
     "name": "stdout",
     "output_type": "stream",
     "text": [
      "Data for Greater_Manchester, agricultural_tags, 2019 saved successfully.\n"
     ]
    },
    {
     "name": "stderr",
     "output_type": "stream",
     "text": [
      "/tmp/ipykernel_13826/3564774858.py:98: UserWarning: Column names longer than 10 characters will be truncated when saved to ESRI Shapefile.\n",
      "  gdf_polygons.to_file(shapefile_name)\n"
     ]
    },
    {
     "name": "stdout",
     "output_type": "stream",
     "text": [
      "Data for Greater_Manchester, human_managed_green_spaces_tags, 2019 saved successfully.\n"
     ]
    },
    {
     "name": "stderr",
     "output_type": "stream",
     "text": [
      "/tmp/ipykernel_13826/3564774858.py:98: UserWarning: Column names longer than 10 characters will be truncated when saved to ESRI Shapefile.\n",
      "  gdf_polygons.to_file(shapefile_name)\n"
     ]
    },
    {
     "name": "stdout",
     "output_type": "stream",
     "text": [
      "Data for Greater_Manchester, urban_green_infrastructure_tags, 2019 saved successfully.\n"
     ]
    },
    {
     "name": "stderr",
     "output_type": "stream",
     "text": [
      "/tmp/ipykernel_13826/3564774858.py:98: UserWarning: Column names longer than 10 characters will be truncated when saved to ESRI Shapefile.\n",
      "  gdf_polygons.to_file(shapefile_name)\n"
     ]
    },
    {
     "name": "stdout",
     "output_type": "stream",
     "text": [
      "Data for Greater_Manchester, grassy_sports_fields_tags, 2019 saved successfully.\n"
     ]
    },
    {
     "name": "stderr",
     "output_type": "stream",
     "text": [
      "/tmp/ipykernel_13826/3564774858.py:98: UserWarning: Column names longer than 10 characters will be truncated when saved to ESRI Shapefile.\n",
      "  gdf_polygons.to_file(shapefile_name)\n"
     ]
    },
    {
     "name": "stdout",
     "output_type": "stream",
     "text": [
      "Data for Greater_Manchester, natural_tags, 2020 saved successfully.\n"
     ]
    },
    {
     "name": "stderr",
     "output_type": "stream",
     "text": [
      "/tmp/ipykernel_13826/3564774858.py:98: UserWarning: Column names longer than 10 characters will be truncated when saved to ESRI Shapefile.\n",
      "  gdf_polygons.to_file(shapefile_name)\n"
     ]
    },
    {
     "name": "stdout",
     "output_type": "stream",
     "text": [
      "Data for Greater_Manchester, agricultural_tags, 2020 saved successfully.\n"
     ]
    },
    {
     "name": "stderr",
     "output_type": "stream",
     "text": [
      "/tmp/ipykernel_13826/3564774858.py:98: UserWarning: Column names longer than 10 characters will be truncated when saved to ESRI Shapefile.\n",
      "  gdf_polygons.to_file(shapefile_name)\n"
     ]
    },
    {
     "name": "stdout",
     "output_type": "stream",
     "text": [
      "Data for Greater_Manchester, human_managed_green_spaces_tags, 2020 saved successfully.\n"
     ]
    },
    {
     "name": "stderr",
     "output_type": "stream",
     "text": [
      "/tmp/ipykernel_13826/3564774858.py:98: UserWarning: Column names longer than 10 characters will be truncated when saved to ESRI Shapefile.\n",
      "  gdf_polygons.to_file(shapefile_name)\n"
     ]
    },
    {
     "name": "stdout",
     "output_type": "stream",
     "text": [
      "Data for Greater_Manchester, urban_green_infrastructure_tags, 2020 saved successfully.\n"
     ]
    },
    {
     "name": "stderr",
     "output_type": "stream",
     "text": [
      "/tmp/ipykernel_13826/3564774858.py:98: UserWarning: Column names longer than 10 characters will be truncated when saved to ESRI Shapefile.\n",
      "  gdf_polygons.to_file(shapefile_name)\n"
     ]
    },
    {
     "name": "stdout",
     "output_type": "stream",
     "text": [
      "Data for Greater_Manchester, grassy_sports_fields_tags, 2020 saved successfully.\n"
     ]
    },
    {
     "name": "stderr",
     "output_type": "stream",
     "text": [
      "/tmp/ipykernel_13826/3564774858.py:98: UserWarning: Column names longer than 10 characters will be truncated when saved to ESRI Shapefile.\n",
      "  gdf_polygons.to_file(shapefile_name)\n"
     ]
    },
    {
     "name": "stdout",
     "output_type": "stream",
     "text": [
      "Data for Greater_Manchester, natural_tags, 2021 saved successfully.\n"
     ]
    },
    {
     "name": "stderr",
     "output_type": "stream",
     "text": [
      "/tmp/ipykernel_13826/3564774858.py:98: UserWarning: Column names longer than 10 characters will be truncated when saved to ESRI Shapefile.\n",
      "  gdf_polygons.to_file(shapefile_name)\n"
     ]
    },
    {
     "name": "stdout",
     "output_type": "stream",
     "text": [
      "Data for Greater_Manchester, agricultural_tags, 2021 saved successfully.\n"
     ]
    },
    {
     "name": "stderr",
     "output_type": "stream",
     "text": [
      "/tmp/ipykernel_13826/3564774858.py:98: UserWarning: Column names longer than 10 characters will be truncated when saved to ESRI Shapefile.\n",
      "  gdf_polygons.to_file(shapefile_name)\n"
     ]
    },
    {
     "name": "stdout",
     "output_type": "stream",
     "text": [
      "Data for Greater_Manchester, human_managed_green_spaces_tags, 2021 saved successfully.\n"
     ]
    },
    {
     "name": "stderr",
     "output_type": "stream",
     "text": [
      "/tmp/ipykernel_13826/3564774858.py:98: UserWarning: Column names longer than 10 characters will be truncated when saved to ESRI Shapefile.\n",
      "  gdf_polygons.to_file(shapefile_name)\n"
     ]
    },
    {
     "name": "stdout",
     "output_type": "stream",
     "text": [
      "Data for Greater_Manchester, urban_green_infrastructure_tags, 2021 saved successfully.\n"
     ]
    },
    {
     "name": "stderr",
     "output_type": "stream",
     "text": [
      "/tmp/ipykernel_13826/3564774858.py:98: UserWarning: Column names longer than 10 characters will be truncated when saved to ESRI Shapefile.\n",
      "  gdf_polygons.to_file(shapefile_name)\n"
     ]
    },
    {
     "name": "stdout",
     "output_type": "stream",
     "text": [
      "Data for Greater_Manchester, grassy_sports_fields_tags, 2021 saved successfully.\n"
     ]
    },
    {
     "name": "stderr",
     "output_type": "stream",
     "text": [
      "/tmp/ipykernel_13826/3564774858.py:98: UserWarning: Column names longer than 10 characters will be truncated when saved to ESRI Shapefile.\n",
      "  gdf_polygons.to_file(shapefile_name)\n"
     ]
    },
    {
     "name": "stdout",
     "output_type": "stream",
     "text": [
      "Data for Greater_Manchester, natural_tags, 2022 saved successfully.\n"
     ]
    },
    {
     "name": "stderr",
     "output_type": "stream",
     "text": [
      "/tmp/ipykernel_13826/3564774858.py:98: UserWarning: Column names longer than 10 characters will be truncated when saved to ESRI Shapefile.\n",
      "  gdf_polygons.to_file(shapefile_name)\n"
     ]
    },
    {
     "name": "stdout",
     "output_type": "stream",
     "text": [
      "Data for Greater_Manchester, agricultural_tags, 2022 saved successfully.\n"
     ]
    },
    {
     "name": "stderr",
     "output_type": "stream",
     "text": [
      "/tmp/ipykernel_13826/3564774858.py:98: UserWarning: Column names longer than 10 characters will be truncated when saved to ESRI Shapefile.\n",
      "  gdf_polygons.to_file(shapefile_name)\n"
     ]
    },
    {
     "name": "stdout",
     "output_type": "stream",
     "text": [
      "Data for Greater_Manchester, human_managed_green_spaces_tags, 2022 saved successfully.\n"
     ]
    },
    {
     "name": "stderr",
     "output_type": "stream",
     "text": [
      "/tmp/ipykernel_13826/3564774858.py:98: UserWarning: Column names longer than 10 characters will be truncated when saved to ESRI Shapefile.\n",
      "  gdf_polygons.to_file(shapefile_name)\n"
     ]
    },
    {
     "name": "stdout",
     "output_type": "stream",
     "text": [
      "Data for Greater_Manchester, urban_green_infrastructure_tags, 2022 saved successfully.\n"
     ]
    },
    {
     "name": "stderr",
     "output_type": "stream",
     "text": [
      "/tmp/ipykernel_13826/3564774858.py:98: UserWarning: Column names longer than 10 characters will be truncated when saved to ESRI Shapefile.\n",
      "  gdf_polygons.to_file(shapefile_name)\n"
     ]
    },
    {
     "name": "stdout",
     "output_type": "stream",
     "text": [
      "Data for Greater_Manchester, grassy_sports_fields_tags, 2022 saved successfully.\n"
     ]
    },
    {
     "name": "stderr",
     "output_type": "stream",
     "text": [
      "/tmp/ipykernel_13826/3564774858.py:98: UserWarning: Column names longer than 10 characters will be truncated when saved to ESRI Shapefile.\n",
      "  gdf_polygons.to_file(shapefile_name)\n"
     ]
    },
    {
     "name": "stdout",
     "output_type": "stream",
     "text": [
      "Data for Greater_Manchester, natural_tags, 2023 saved successfully.\n"
     ]
    },
    {
     "name": "stderr",
     "output_type": "stream",
     "text": [
      "/tmp/ipykernel_13826/3564774858.py:98: UserWarning: Column names longer than 10 characters will be truncated when saved to ESRI Shapefile.\n",
      "  gdf_polygons.to_file(shapefile_name)\n"
     ]
    },
    {
     "name": "stdout",
     "output_type": "stream",
     "text": [
      "Data for Greater_Manchester, agricultural_tags, 2023 saved successfully.\n"
     ]
    },
    {
     "name": "stderr",
     "output_type": "stream",
     "text": [
      "/tmp/ipykernel_13826/3564774858.py:98: UserWarning: Column names longer than 10 characters will be truncated when saved to ESRI Shapefile.\n",
      "  gdf_polygons.to_file(shapefile_name)\n"
     ]
    },
    {
     "name": "stdout",
     "output_type": "stream",
     "text": [
      "Data for Greater_Manchester, human_managed_green_spaces_tags, 2023 saved successfully.\n"
     ]
    },
    {
     "name": "stderr",
     "output_type": "stream",
     "text": [
      "/tmp/ipykernel_13826/3564774858.py:98: UserWarning: Column names longer than 10 characters will be truncated when saved to ESRI Shapefile.\n",
      "  gdf_polygons.to_file(shapefile_name)\n"
     ]
    },
    {
     "name": "stdout",
     "output_type": "stream",
     "text": [
      "Data for Greater_Manchester, urban_green_infrastructure_tags, 2023 saved successfully.\n"
     ]
    },
    {
     "name": "stderr",
     "output_type": "stream",
     "text": [
      "/tmp/ipykernel_13826/3564774858.py:98: UserWarning: Column names longer than 10 characters will be truncated when saved to ESRI Shapefile.\n",
      "  gdf_polygons.to_file(shapefile_name)\n"
     ]
    },
    {
     "name": "stdout",
     "output_type": "stream",
     "text": [
      "Data for Greater_Manchester, grassy_sports_fields_tags, 2023 saved successfully.\n"
     ]
    },
    {
     "name": "stderr",
     "output_type": "stream",
     "text": [
      "/tmp/ipykernel_13826/3564774858.py:98: UserWarning: Column names longer than 10 characters will be truncated when saved to ESRI Shapefile.\n",
      "  gdf_polygons.to_file(shapefile_name)\n"
     ]
    },
    {
     "name": "stdout",
     "output_type": "stream",
     "text": [
      "Data for Greater_London, natural_tags, 2015 saved successfully.\n"
     ]
    },
    {
     "name": "stderr",
     "output_type": "stream",
     "text": [
      "/tmp/ipykernel_13826/3564774858.py:98: UserWarning: Column names longer than 10 characters will be truncated when saved to ESRI Shapefile.\n",
      "  gdf_polygons.to_file(shapefile_name)\n"
     ]
    },
    {
     "name": "stdout",
     "output_type": "stream",
     "text": [
      "Data for Greater_London, agricultural_tags, 2015 saved successfully.\n"
     ]
    },
    {
     "name": "stderr",
     "output_type": "stream",
     "text": [
      "/tmp/ipykernel_13826/3564774858.py:98: UserWarning: Column names longer than 10 characters will be truncated when saved to ESRI Shapefile.\n",
      "  gdf_polygons.to_file(shapefile_name)\n"
     ]
    },
    {
     "name": "stdout",
     "output_type": "stream",
     "text": [
      "Data for Greater_London, human_managed_green_spaces_tags, 2015 saved successfully.\n"
     ]
    },
    {
     "name": "stderr",
     "output_type": "stream",
     "text": [
      "/tmp/ipykernel_13826/3564774858.py:98: UserWarning: Column names longer than 10 characters will be truncated when saved to ESRI Shapefile.\n",
      "  gdf_polygons.to_file(shapefile_name)\n"
     ]
    },
    {
     "name": "stdout",
     "output_type": "stream",
     "text": [
      "Data for Greater_London, urban_green_infrastructure_tags, 2015 saved successfully.\n"
     ]
    },
    {
     "name": "stderr",
     "output_type": "stream",
     "text": [
      "/tmp/ipykernel_13826/3564774858.py:98: UserWarning: Column names longer than 10 characters will be truncated when saved to ESRI Shapefile.\n",
      "  gdf_polygons.to_file(shapefile_name)\n"
     ]
    },
    {
     "name": "stdout",
     "output_type": "stream",
     "text": [
      "Data for Greater_London, grassy_sports_fields_tags, 2015 saved successfully.\n"
     ]
    },
    {
     "name": "stderr",
     "output_type": "stream",
     "text": [
      "/tmp/ipykernel_13826/3564774858.py:98: UserWarning: Column names longer than 10 characters will be truncated when saved to ESRI Shapefile.\n",
      "  gdf_polygons.to_file(shapefile_name)\n"
     ]
    },
    {
     "name": "stdout",
     "output_type": "stream",
     "text": [
      "Data for Greater_London, natural_tags, 2016 saved successfully.\n"
     ]
    },
    {
     "name": "stderr",
     "output_type": "stream",
     "text": [
      "/tmp/ipykernel_13826/3564774858.py:98: UserWarning: Column names longer than 10 characters will be truncated when saved to ESRI Shapefile.\n",
      "  gdf_polygons.to_file(shapefile_name)\n"
     ]
    },
    {
     "name": "stdout",
     "output_type": "stream",
     "text": [
      "Data for Greater_London, agricultural_tags, 2016 saved successfully.\n"
     ]
    },
    {
     "name": "stderr",
     "output_type": "stream",
     "text": [
      "/tmp/ipykernel_13826/3564774858.py:98: UserWarning: Column names longer than 10 characters will be truncated when saved to ESRI Shapefile.\n",
      "  gdf_polygons.to_file(shapefile_name)\n"
     ]
    },
    {
     "name": "stdout",
     "output_type": "stream",
     "text": [
      "Data for Greater_London, human_managed_green_spaces_tags, 2016 saved successfully.\n"
     ]
    },
    {
     "name": "stderr",
     "output_type": "stream",
     "text": [
      "/tmp/ipykernel_13826/3564774858.py:98: UserWarning: Column names longer than 10 characters will be truncated when saved to ESRI Shapefile.\n",
      "  gdf_polygons.to_file(shapefile_name)\n"
     ]
    },
    {
     "name": "stdout",
     "output_type": "stream",
     "text": [
      "Data for Greater_London, urban_green_infrastructure_tags, 2016 saved successfully.\n"
     ]
    },
    {
     "name": "stderr",
     "output_type": "stream",
     "text": [
      "/tmp/ipykernel_13826/3564774858.py:98: UserWarning: Column names longer than 10 characters will be truncated when saved to ESRI Shapefile.\n",
      "  gdf_polygons.to_file(shapefile_name)\n"
     ]
    },
    {
     "name": "stdout",
     "output_type": "stream",
     "text": [
      "Data for Greater_London, grassy_sports_fields_tags, 2016 saved successfully.\n"
     ]
    },
    {
     "name": "stderr",
     "output_type": "stream",
     "text": [
      "/tmp/ipykernel_13826/3564774858.py:98: UserWarning: Column names longer than 10 characters will be truncated when saved to ESRI Shapefile.\n",
      "  gdf_polygons.to_file(shapefile_name)\n"
     ]
    },
    {
     "name": "stdout",
     "output_type": "stream",
     "text": [
      "Data for Greater_London, natural_tags, 2017 saved successfully.\n"
     ]
    },
    {
     "name": "stderr",
     "output_type": "stream",
     "text": [
      "/tmp/ipykernel_13826/3564774858.py:98: UserWarning: Column names longer than 10 characters will be truncated when saved to ESRI Shapefile.\n",
      "  gdf_polygons.to_file(shapefile_name)\n"
     ]
    },
    {
     "name": "stdout",
     "output_type": "stream",
     "text": [
      "Data for Greater_London, agricultural_tags, 2017 saved successfully.\n"
     ]
    },
    {
     "name": "stderr",
     "output_type": "stream",
     "text": [
      "/tmp/ipykernel_13826/3564774858.py:98: UserWarning: Column names longer than 10 characters will be truncated when saved to ESRI Shapefile.\n",
      "  gdf_polygons.to_file(shapefile_name)\n"
     ]
    },
    {
     "name": "stdout",
     "output_type": "stream",
     "text": [
      "Data for Greater_London, human_managed_green_spaces_tags, 2017 saved successfully.\n"
     ]
    },
    {
     "name": "stderr",
     "output_type": "stream",
     "text": [
      "/tmp/ipykernel_13826/3564774858.py:98: UserWarning: Column names longer than 10 characters will be truncated when saved to ESRI Shapefile.\n",
      "  gdf_polygons.to_file(shapefile_name)\n"
     ]
    },
    {
     "name": "stdout",
     "output_type": "stream",
     "text": [
      "Data for Greater_London, urban_green_infrastructure_tags, 2017 saved successfully.\n"
     ]
    },
    {
     "name": "stderr",
     "output_type": "stream",
     "text": [
      "/tmp/ipykernel_13826/3564774858.py:98: UserWarning: Column names longer than 10 characters will be truncated when saved to ESRI Shapefile.\n",
      "  gdf_polygons.to_file(shapefile_name)\n"
     ]
    },
    {
     "name": "stdout",
     "output_type": "stream",
     "text": [
      "Data for Greater_London, grassy_sports_fields_tags, 2017 saved successfully.\n"
     ]
    },
    {
     "name": "stderr",
     "output_type": "stream",
     "text": [
      "/tmp/ipykernel_13826/3564774858.py:98: UserWarning: Column names longer than 10 characters will be truncated when saved to ESRI Shapefile.\n",
      "  gdf_polygons.to_file(shapefile_name)\n"
     ]
    },
    {
     "name": "stdout",
     "output_type": "stream",
     "text": [
      "Data for Greater_London, natural_tags, 2018 saved successfully.\n"
     ]
    },
    {
     "name": "stderr",
     "output_type": "stream",
     "text": [
      "/tmp/ipykernel_13826/3564774858.py:98: UserWarning: Column names longer than 10 characters will be truncated when saved to ESRI Shapefile.\n",
      "  gdf_polygons.to_file(shapefile_name)\n"
     ]
    },
    {
     "name": "stdout",
     "output_type": "stream",
     "text": [
      "Data for Greater_London, agricultural_tags, 2018 saved successfully.\n"
     ]
    },
    {
     "name": "stderr",
     "output_type": "stream",
     "text": [
      "/tmp/ipykernel_13826/3564774858.py:98: UserWarning: Column names longer than 10 characters will be truncated when saved to ESRI Shapefile.\n",
      "  gdf_polygons.to_file(shapefile_name)\n"
     ]
    },
    {
     "name": "stdout",
     "output_type": "stream",
     "text": [
      "Data for Greater_London, human_managed_green_spaces_tags, 2018 saved successfully.\n"
     ]
    },
    {
     "name": "stderr",
     "output_type": "stream",
     "text": [
      "/tmp/ipykernel_13826/3564774858.py:98: UserWarning: Column names longer than 10 characters will be truncated when saved to ESRI Shapefile.\n",
      "  gdf_polygons.to_file(shapefile_name)\n"
     ]
    },
    {
     "name": "stdout",
     "output_type": "stream",
     "text": [
      "Data for Greater_London, urban_green_infrastructure_tags, 2018 saved successfully.\n"
     ]
    },
    {
     "name": "stderr",
     "output_type": "stream",
     "text": [
      "/tmp/ipykernel_13826/3564774858.py:98: UserWarning: Column names longer than 10 characters will be truncated when saved to ESRI Shapefile.\n",
      "  gdf_polygons.to_file(shapefile_name)\n"
     ]
    },
    {
     "name": "stdout",
     "output_type": "stream",
     "text": [
      "Data for Greater_London, grassy_sports_fields_tags, 2018 saved successfully.\n"
     ]
    },
    {
     "name": "stderr",
     "output_type": "stream",
     "text": [
      "/tmp/ipykernel_13826/3564774858.py:98: UserWarning: Column names longer than 10 characters will be truncated when saved to ESRI Shapefile.\n",
      "  gdf_polygons.to_file(shapefile_name)\n"
     ]
    },
    {
     "name": "stdout",
     "output_type": "stream",
     "text": [
      "Data for Greater_London, natural_tags, 2019 saved successfully.\n"
     ]
    },
    {
     "name": "stderr",
     "output_type": "stream",
     "text": [
      "/tmp/ipykernel_13826/3564774858.py:98: UserWarning: Column names longer than 10 characters will be truncated when saved to ESRI Shapefile.\n",
      "  gdf_polygons.to_file(shapefile_name)\n"
     ]
    },
    {
     "name": "stdout",
     "output_type": "stream",
     "text": [
      "Data for Greater_London, agricultural_tags, 2019 saved successfully.\n"
     ]
    },
    {
     "name": "stderr",
     "output_type": "stream",
     "text": [
      "/tmp/ipykernel_13826/3564774858.py:98: UserWarning: Column names longer than 10 characters will be truncated when saved to ESRI Shapefile.\n",
      "  gdf_polygons.to_file(shapefile_name)\n"
     ]
    },
    {
     "name": "stdout",
     "output_type": "stream",
     "text": [
      "Data for Greater_London, human_managed_green_spaces_tags, 2019 saved successfully.\n"
     ]
    },
    {
     "name": "stderr",
     "output_type": "stream",
     "text": [
      "/tmp/ipykernel_13826/3564774858.py:98: UserWarning: Column names longer than 10 characters will be truncated when saved to ESRI Shapefile.\n",
      "  gdf_polygons.to_file(shapefile_name)\n"
     ]
    },
    {
     "name": "stdout",
     "output_type": "stream",
     "text": [
      "Data for Greater_London, urban_green_infrastructure_tags, 2019 saved successfully.\n"
     ]
    },
    {
     "name": "stderr",
     "output_type": "stream",
     "text": [
      "/tmp/ipykernel_13826/3564774858.py:98: UserWarning: Column names longer than 10 characters will be truncated when saved to ESRI Shapefile.\n",
      "  gdf_polygons.to_file(shapefile_name)\n"
     ]
    },
    {
     "name": "stdout",
     "output_type": "stream",
     "text": [
      "Data for Greater_London, grassy_sports_fields_tags, 2019 saved successfully.\n"
     ]
    },
    {
     "name": "stderr",
     "output_type": "stream",
     "text": [
      "/tmp/ipykernel_13826/3564774858.py:98: UserWarning: Column names longer than 10 characters will be truncated when saved to ESRI Shapefile.\n",
      "  gdf_polygons.to_file(shapefile_name)\n"
     ]
    },
    {
     "name": "stdout",
     "output_type": "stream",
     "text": [
      "Data for Greater_London, natural_tags, 2020 saved successfully.\n"
     ]
    },
    {
     "name": "stderr",
     "output_type": "stream",
     "text": [
      "/tmp/ipykernel_13826/3564774858.py:98: UserWarning: Column names longer than 10 characters will be truncated when saved to ESRI Shapefile.\n",
      "  gdf_polygons.to_file(shapefile_name)\n"
     ]
    },
    {
     "name": "stdout",
     "output_type": "stream",
     "text": [
      "Data for Greater_London, agricultural_tags, 2020 saved successfully.\n"
     ]
    },
    {
     "name": "stderr",
     "output_type": "stream",
     "text": [
      "/tmp/ipykernel_13826/3564774858.py:98: UserWarning: Column names longer than 10 characters will be truncated when saved to ESRI Shapefile.\n",
      "  gdf_polygons.to_file(shapefile_name)\n"
     ]
    },
    {
     "name": "stdout",
     "output_type": "stream",
     "text": [
      "Data for Greater_London, human_managed_green_spaces_tags, 2020 saved successfully.\n"
     ]
    },
    {
     "name": "stderr",
     "output_type": "stream",
     "text": [
      "/tmp/ipykernel_13826/3564774858.py:98: UserWarning: Column names longer than 10 characters will be truncated when saved to ESRI Shapefile.\n",
      "  gdf_polygons.to_file(shapefile_name)\n"
     ]
    },
    {
     "name": "stdout",
     "output_type": "stream",
     "text": [
      "Data for Greater_London, urban_green_infrastructure_tags, 2020 saved successfully.\n"
     ]
    },
    {
     "name": "stderr",
     "output_type": "stream",
     "text": [
      "/tmp/ipykernel_13826/3564774858.py:98: UserWarning: Column names longer than 10 characters will be truncated when saved to ESRI Shapefile.\n",
      "  gdf_polygons.to_file(shapefile_name)\n"
     ]
    },
    {
     "name": "stdout",
     "output_type": "stream",
     "text": [
      "Data for Greater_London, grassy_sports_fields_tags, 2020 saved successfully.\n"
     ]
    },
    {
     "name": "stderr",
     "output_type": "stream",
     "text": [
      "/tmp/ipykernel_13826/3564774858.py:98: UserWarning: Column names longer than 10 characters will be truncated when saved to ESRI Shapefile.\n",
      "  gdf_polygons.to_file(shapefile_name)\n"
     ]
    },
    {
     "name": "stdout",
     "output_type": "stream",
     "text": [
      "Data for Greater_London, natural_tags, 2021 saved successfully.\n"
     ]
    },
    {
     "name": "stderr",
     "output_type": "stream",
     "text": [
      "/tmp/ipykernel_13826/3564774858.py:98: UserWarning: Column names longer than 10 characters will be truncated when saved to ESRI Shapefile.\n",
      "  gdf_polygons.to_file(shapefile_name)\n"
     ]
    },
    {
     "name": "stdout",
     "output_type": "stream",
     "text": [
      "Data for Greater_London, agricultural_tags, 2021 saved successfully.\n"
     ]
    },
    {
     "name": "stderr",
     "output_type": "stream",
     "text": [
      "/tmp/ipykernel_13826/3564774858.py:98: UserWarning: Column names longer than 10 characters will be truncated when saved to ESRI Shapefile.\n",
      "  gdf_polygons.to_file(shapefile_name)\n"
     ]
    },
    {
     "name": "stdout",
     "output_type": "stream",
     "text": [
      "Data for Greater_London, human_managed_green_spaces_tags, 2021 saved successfully.\n"
     ]
    },
    {
     "name": "stderr",
     "output_type": "stream",
     "text": [
      "/tmp/ipykernel_13826/3564774858.py:98: UserWarning: Column names longer than 10 characters will be truncated when saved to ESRI Shapefile.\n",
      "  gdf_polygons.to_file(shapefile_name)\n"
     ]
    },
    {
     "name": "stdout",
     "output_type": "stream",
     "text": [
      "Data for Greater_London, urban_green_infrastructure_tags, 2021 saved successfully.\n"
     ]
    },
    {
     "name": "stderr",
     "output_type": "stream",
     "text": [
      "/tmp/ipykernel_13826/3564774858.py:98: UserWarning: Column names longer than 10 characters will be truncated when saved to ESRI Shapefile.\n",
      "  gdf_polygons.to_file(shapefile_name)\n"
     ]
    },
    {
     "name": "stdout",
     "output_type": "stream",
     "text": [
      "Data for Greater_London, grassy_sports_fields_tags, 2021 saved successfully.\n"
     ]
    },
    {
     "name": "stderr",
     "output_type": "stream",
     "text": [
      "/tmp/ipykernel_13826/3564774858.py:98: UserWarning: Column names longer than 10 characters will be truncated when saved to ESRI Shapefile.\n",
      "  gdf_polygons.to_file(shapefile_name)\n"
     ]
    },
    {
     "name": "stdout",
     "output_type": "stream",
     "text": [
      "Data for Greater_London, natural_tags, 2022 saved successfully.\n"
     ]
    },
    {
     "name": "stderr",
     "output_type": "stream",
     "text": [
      "/tmp/ipykernel_13826/3564774858.py:98: UserWarning: Column names longer than 10 characters will be truncated when saved to ESRI Shapefile.\n",
      "  gdf_polygons.to_file(shapefile_name)\n"
     ]
    },
    {
     "name": "stdout",
     "output_type": "stream",
     "text": [
      "Data for Greater_London, agricultural_tags, 2022 saved successfully.\n"
     ]
    },
    {
     "name": "stderr",
     "output_type": "stream",
     "text": [
      "/tmp/ipykernel_13826/3564774858.py:98: UserWarning: Column names longer than 10 characters will be truncated when saved to ESRI Shapefile.\n",
      "  gdf_polygons.to_file(shapefile_name)\n"
     ]
    },
    {
     "name": "stdout",
     "output_type": "stream",
     "text": [
      "Data for Greater_London, human_managed_green_spaces_tags, 2022 saved successfully.\n"
     ]
    },
    {
     "name": "stderr",
     "output_type": "stream",
     "text": [
      "/tmp/ipykernel_13826/3564774858.py:98: UserWarning: Column names longer than 10 characters will be truncated when saved to ESRI Shapefile.\n",
      "  gdf_polygons.to_file(shapefile_name)\n"
     ]
    },
    {
     "name": "stdout",
     "output_type": "stream",
     "text": [
      "Data for Greater_London, urban_green_infrastructure_tags, 2022 saved successfully.\n"
     ]
    },
    {
     "name": "stderr",
     "output_type": "stream",
     "text": [
      "/tmp/ipykernel_13826/3564774858.py:98: UserWarning: Column names longer than 10 characters will be truncated when saved to ESRI Shapefile.\n",
      "  gdf_polygons.to_file(shapefile_name)\n"
     ]
    },
    {
     "name": "stdout",
     "output_type": "stream",
     "text": [
      "Data for Greater_London, grassy_sports_fields_tags, 2022 saved successfully.\n"
     ]
    },
    {
     "name": "stderr",
     "output_type": "stream",
     "text": [
      "/tmp/ipykernel_13826/3564774858.py:98: UserWarning: Column names longer than 10 characters will be truncated when saved to ESRI Shapefile.\n",
      "  gdf_polygons.to_file(shapefile_name)\n"
     ]
    },
    {
     "name": "stdout",
     "output_type": "stream",
     "text": [
      "Data for Greater_London, natural_tags, 2023 saved successfully.\n"
     ]
    },
    {
     "name": "stderr",
     "output_type": "stream",
     "text": [
      "/tmp/ipykernel_13826/3564774858.py:98: UserWarning: Column names longer than 10 characters will be truncated when saved to ESRI Shapefile.\n",
      "  gdf_polygons.to_file(shapefile_name)\n"
     ]
    },
    {
     "name": "stdout",
     "output_type": "stream",
     "text": [
      "Data for Greater_London, agricultural_tags, 2023 saved successfully.\n"
     ]
    },
    {
     "name": "stderr",
     "output_type": "stream",
     "text": [
      "/tmp/ipykernel_13826/3564774858.py:98: UserWarning: Column names longer than 10 characters will be truncated when saved to ESRI Shapefile.\n",
      "  gdf_polygons.to_file(shapefile_name)\n"
     ]
    },
    {
     "name": "stdout",
     "output_type": "stream",
     "text": [
      "Data for Greater_London, human_managed_green_spaces_tags, 2023 saved successfully.\n"
     ]
    },
    {
     "name": "stderr",
     "output_type": "stream",
     "text": [
      "/tmp/ipykernel_13826/3564774858.py:98: UserWarning: Column names longer than 10 characters will be truncated when saved to ESRI Shapefile.\n",
      "  gdf_polygons.to_file(shapefile_name)\n"
     ]
    },
    {
     "name": "stdout",
     "output_type": "stream",
     "text": [
      "Data for Greater_London, urban_green_infrastructure_tags, 2023 saved successfully.\n"
     ]
    },
    {
     "name": "stderr",
     "output_type": "stream",
     "text": [
      "/tmp/ipykernel_13826/3564774858.py:98: UserWarning: Column names longer than 10 characters will be truncated when saved to ESRI Shapefile.\n",
      "  gdf_polygons.to_file(shapefile_name)\n"
     ]
    },
    {
     "name": "stdout",
     "output_type": "stream",
     "text": [
      "Data for Greater_London, grassy_sports_fields_tags, 2023 saved successfully.\n"
     ]
    },
    {
     "name": "stderr",
     "output_type": "stream",
     "text": [
      "/tmp/ipykernel_13826/3564774858.py:98: UserWarning: Column names longer than 10 characters will be truncated when saved to ESRI Shapefile.\n",
      "  gdf_polygons.to_file(shapefile_name)\n"
     ]
    },
    {
     "name": "stdout",
     "output_type": "stream",
     "text": [
      "Data for West_Midlands, natural_tags, 2015 saved successfully.\n"
     ]
    },
    {
     "name": "stderr",
     "output_type": "stream",
     "text": [
      "/tmp/ipykernel_13826/3564774858.py:98: UserWarning: Column names longer than 10 characters will be truncated when saved to ESRI Shapefile.\n",
      "  gdf_polygons.to_file(shapefile_name)\n"
     ]
    },
    {
     "name": "stdout",
     "output_type": "stream",
     "text": [
      "Data for West_Midlands, agricultural_tags, 2015 saved successfully.\n"
     ]
    },
    {
     "name": "stderr",
     "output_type": "stream",
     "text": [
      "/tmp/ipykernel_13826/3564774858.py:98: UserWarning: Column names longer than 10 characters will be truncated when saved to ESRI Shapefile.\n",
      "  gdf_polygons.to_file(shapefile_name)\n"
     ]
    },
    {
     "name": "stdout",
     "output_type": "stream",
     "text": [
      "Data for West_Midlands, human_managed_green_spaces_tags, 2015 saved successfully.\n"
     ]
    },
    {
     "name": "stderr",
     "output_type": "stream",
     "text": [
      "/tmp/ipykernel_13826/3564774858.py:98: UserWarning: Column names longer than 10 characters will be truncated when saved to ESRI Shapefile.\n",
      "  gdf_polygons.to_file(shapefile_name)\n"
     ]
    },
    {
     "name": "stdout",
     "output_type": "stream",
     "text": [
      "Data for West_Midlands, urban_green_infrastructure_tags, 2015 saved successfully.\n"
     ]
    },
    {
     "name": "stderr",
     "output_type": "stream",
     "text": [
      "/tmp/ipykernel_13826/3564774858.py:98: UserWarning: Column names longer than 10 characters will be truncated when saved to ESRI Shapefile.\n",
      "  gdf_polygons.to_file(shapefile_name)\n"
     ]
    },
    {
     "name": "stdout",
     "output_type": "stream",
     "text": [
      "Data for West_Midlands, grassy_sports_fields_tags, 2015 saved successfully.\n"
     ]
    },
    {
     "name": "stderr",
     "output_type": "stream",
     "text": [
      "/tmp/ipykernel_13826/3564774858.py:98: UserWarning: Column names longer than 10 characters will be truncated when saved to ESRI Shapefile.\n",
      "  gdf_polygons.to_file(shapefile_name)\n"
     ]
    },
    {
     "name": "stdout",
     "output_type": "stream",
     "text": [
      "Data for West_Midlands, natural_tags, 2016 saved successfully.\n"
     ]
    },
    {
     "name": "stderr",
     "output_type": "stream",
     "text": [
      "/tmp/ipykernel_13826/3564774858.py:98: UserWarning: Column names longer than 10 characters will be truncated when saved to ESRI Shapefile.\n",
      "  gdf_polygons.to_file(shapefile_name)\n"
     ]
    },
    {
     "name": "stdout",
     "output_type": "stream",
     "text": [
      "Data for West_Midlands, agricultural_tags, 2016 saved successfully.\n"
     ]
    },
    {
     "name": "stderr",
     "output_type": "stream",
     "text": [
      "/tmp/ipykernel_13826/3564774858.py:98: UserWarning: Column names longer than 10 characters will be truncated when saved to ESRI Shapefile.\n",
      "  gdf_polygons.to_file(shapefile_name)\n"
     ]
    },
    {
     "name": "stdout",
     "output_type": "stream",
     "text": [
      "Data for West_Midlands, human_managed_green_spaces_tags, 2016 saved successfully.\n"
     ]
    },
    {
     "name": "stderr",
     "output_type": "stream",
     "text": [
      "/tmp/ipykernel_13826/3564774858.py:98: UserWarning: Column names longer than 10 characters will be truncated when saved to ESRI Shapefile.\n",
      "  gdf_polygons.to_file(shapefile_name)\n"
     ]
    },
    {
     "name": "stdout",
     "output_type": "stream",
     "text": [
      "Data for West_Midlands, urban_green_infrastructure_tags, 2016 saved successfully.\n"
     ]
    },
    {
     "name": "stderr",
     "output_type": "stream",
     "text": [
      "/tmp/ipykernel_13826/3564774858.py:98: UserWarning: Column names longer than 10 characters will be truncated when saved to ESRI Shapefile.\n",
      "  gdf_polygons.to_file(shapefile_name)\n"
     ]
    },
    {
     "name": "stdout",
     "output_type": "stream",
     "text": [
      "Data for West_Midlands, grassy_sports_fields_tags, 2016 saved successfully.\n"
     ]
    },
    {
     "name": "stderr",
     "output_type": "stream",
     "text": [
      "/tmp/ipykernel_13826/3564774858.py:98: UserWarning: Column names longer than 10 characters will be truncated when saved to ESRI Shapefile.\n",
      "  gdf_polygons.to_file(shapefile_name)\n"
     ]
    },
    {
     "name": "stdout",
     "output_type": "stream",
     "text": [
      "Data for West_Midlands, natural_tags, 2017 saved successfully.\n"
     ]
    },
    {
     "name": "stderr",
     "output_type": "stream",
     "text": [
      "/tmp/ipykernel_13826/3564774858.py:98: UserWarning: Column names longer than 10 characters will be truncated when saved to ESRI Shapefile.\n",
      "  gdf_polygons.to_file(shapefile_name)\n"
     ]
    },
    {
     "name": "stdout",
     "output_type": "stream",
     "text": [
      "Data for West_Midlands, agricultural_tags, 2017 saved successfully.\n"
     ]
    },
    {
     "name": "stderr",
     "output_type": "stream",
     "text": [
      "/tmp/ipykernel_13826/3564774858.py:98: UserWarning: Column names longer than 10 characters will be truncated when saved to ESRI Shapefile.\n",
      "  gdf_polygons.to_file(shapefile_name)\n"
     ]
    },
    {
     "name": "stdout",
     "output_type": "stream",
     "text": [
      "Data for West_Midlands, human_managed_green_spaces_tags, 2017 saved successfully.\n"
     ]
    },
    {
     "name": "stderr",
     "output_type": "stream",
     "text": [
      "/tmp/ipykernel_13826/3564774858.py:98: UserWarning: Column names longer than 10 characters will be truncated when saved to ESRI Shapefile.\n",
      "  gdf_polygons.to_file(shapefile_name)\n"
     ]
    },
    {
     "name": "stdout",
     "output_type": "stream",
     "text": [
      "Data for West_Midlands, urban_green_infrastructure_tags, 2017 saved successfully.\n"
     ]
    },
    {
     "name": "stderr",
     "output_type": "stream",
     "text": [
      "/tmp/ipykernel_13826/3564774858.py:98: UserWarning: Column names longer than 10 characters will be truncated when saved to ESRI Shapefile.\n",
      "  gdf_polygons.to_file(shapefile_name)\n"
     ]
    },
    {
     "name": "stdout",
     "output_type": "stream",
     "text": [
      "Data for West_Midlands, grassy_sports_fields_tags, 2017 saved successfully.\n"
     ]
    },
    {
     "name": "stderr",
     "output_type": "stream",
     "text": [
      "/tmp/ipykernel_13826/3564774858.py:98: UserWarning: Column names longer than 10 characters will be truncated when saved to ESRI Shapefile.\n",
      "  gdf_polygons.to_file(shapefile_name)\n"
     ]
    },
    {
     "name": "stdout",
     "output_type": "stream",
     "text": [
      "Data for West_Midlands, natural_tags, 2018 saved successfully.\n"
     ]
    },
    {
     "name": "stderr",
     "output_type": "stream",
     "text": [
      "/tmp/ipykernel_13826/3564774858.py:98: UserWarning: Column names longer than 10 characters will be truncated when saved to ESRI Shapefile.\n",
      "  gdf_polygons.to_file(shapefile_name)\n"
     ]
    },
    {
     "name": "stdout",
     "output_type": "stream",
     "text": [
      "Data for West_Midlands, agricultural_tags, 2018 saved successfully.\n"
     ]
    },
    {
     "name": "stderr",
     "output_type": "stream",
     "text": [
      "/tmp/ipykernel_13826/3564774858.py:98: UserWarning: Column names longer than 10 characters will be truncated when saved to ESRI Shapefile.\n",
      "  gdf_polygons.to_file(shapefile_name)\n"
     ]
    },
    {
     "name": "stdout",
     "output_type": "stream",
     "text": [
      "Data for West_Midlands, human_managed_green_spaces_tags, 2018 saved successfully.\n"
     ]
    },
    {
     "name": "stderr",
     "output_type": "stream",
     "text": [
      "/tmp/ipykernel_13826/3564774858.py:98: UserWarning: Column names longer than 10 characters will be truncated when saved to ESRI Shapefile.\n",
      "  gdf_polygons.to_file(shapefile_name)\n"
     ]
    },
    {
     "name": "stdout",
     "output_type": "stream",
     "text": [
      "Data for West_Midlands, urban_green_infrastructure_tags, 2018 saved successfully.\n"
     ]
    },
    {
     "name": "stderr",
     "output_type": "stream",
     "text": [
      "/tmp/ipykernel_13826/3564774858.py:98: UserWarning: Column names longer than 10 characters will be truncated when saved to ESRI Shapefile.\n",
      "  gdf_polygons.to_file(shapefile_name)\n"
     ]
    },
    {
     "name": "stdout",
     "output_type": "stream",
     "text": [
      "Data for West_Midlands, grassy_sports_fields_tags, 2018 saved successfully.\n"
     ]
    },
    {
     "name": "stderr",
     "output_type": "stream",
     "text": [
      "/tmp/ipykernel_13826/3564774858.py:98: UserWarning: Column names longer than 10 characters will be truncated when saved to ESRI Shapefile.\n",
      "  gdf_polygons.to_file(shapefile_name)\n"
     ]
    },
    {
     "name": "stdout",
     "output_type": "stream",
     "text": [
      "Data for West_Midlands, natural_tags, 2019 saved successfully.\n"
     ]
    },
    {
     "name": "stderr",
     "output_type": "stream",
     "text": [
      "/tmp/ipykernel_13826/3564774858.py:98: UserWarning: Column names longer than 10 characters will be truncated when saved to ESRI Shapefile.\n",
      "  gdf_polygons.to_file(shapefile_name)\n"
     ]
    },
    {
     "name": "stdout",
     "output_type": "stream",
     "text": [
      "Data for West_Midlands, agricultural_tags, 2019 saved successfully.\n"
     ]
    },
    {
     "name": "stderr",
     "output_type": "stream",
     "text": [
      "/tmp/ipykernel_13826/3564774858.py:98: UserWarning: Column names longer than 10 characters will be truncated when saved to ESRI Shapefile.\n",
      "  gdf_polygons.to_file(shapefile_name)\n"
     ]
    },
    {
     "name": "stdout",
     "output_type": "stream",
     "text": [
      "Data for West_Midlands, human_managed_green_spaces_tags, 2019 saved successfully.\n"
     ]
    },
    {
     "name": "stderr",
     "output_type": "stream",
     "text": [
      "/tmp/ipykernel_13826/3564774858.py:98: UserWarning: Column names longer than 10 characters will be truncated when saved to ESRI Shapefile.\n",
      "  gdf_polygons.to_file(shapefile_name)\n"
     ]
    },
    {
     "name": "stdout",
     "output_type": "stream",
     "text": [
      "Data for West_Midlands, urban_green_infrastructure_tags, 2019 saved successfully.\n"
     ]
    },
    {
     "name": "stderr",
     "output_type": "stream",
     "text": [
      "/tmp/ipykernel_13826/3564774858.py:98: UserWarning: Column names longer than 10 characters will be truncated when saved to ESRI Shapefile.\n",
      "  gdf_polygons.to_file(shapefile_name)\n"
     ]
    },
    {
     "name": "stdout",
     "output_type": "stream",
     "text": [
      "Data for West_Midlands, grassy_sports_fields_tags, 2019 saved successfully.\n"
     ]
    },
    {
     "name": "stderr",
     "output_type": "stream",
     "text": [
      "/tmp/ipykernel_13826/3564774858.py:98: UserWarning: Column names longer than 10 characters will be truncated when saved to ESRI Shapefile.\n",
      "  gdf_polygons.to_file(shapefile_name)\n"
     ]
    },
    {
     "name": "stdout",
     "output_type": "stream",
     "text": [
      "Data for West_Midlands, natural_tags, 2020 saved successfully.\n"
     ]
    },
    {
     "name": "stderr",
     "output_type": "stream",
     "text": [
      "/tmp/ipykernel_13826/3564774858.py:98: UserWarning: Column names longer than 10 characters will be truncated when saved to ESRI Shapefile.\n",
      "  gdf_polygons.to_file(shapefile_name)\n"
     ]
    },
    {
     "name": "stdout",
     "output_type": "stream",
     "text": [
      "Data for West_Midlands, agricultural_tags, 2020 saved successfully.\n"
     ]
    },
    {
     "name": "stderr",
     "output_type": "stream",
     "text": [
      "/tmp/ipykernel_13826/3564774858.py:98: UserWarning: Column names longer than 10 characters will be truncated when saved to ESRI Shapefile.\n",
      "  gdf_polygons.to_file(shapefile_name)\n"
     ]
    },
    {
     "name": "stdout",
     "output_type": "stream",
     "text": [
      "Data for West_Midlands, human_managed_green_spaces_tags, 2020 saved successfully.\n"
     ]
    },
    {
     "name": "stderr",
     "output_type": "stream",
     "text": [
      "/tmp/ipykernel_13826/3564774858.py:98: UserWarning: Column names longer than 10 characters will be truncated when saved to ESRI Shapefile.\n",
      "  gdf_polygons.to_file(shapefile_name)\n"
     ]
    },
    {
     "name": "stdout",
     "output_type": "stream",
     "text": [
      "Data for West_Midlands, urban_green_infrastructure_tags, 2020 saved successfully.\n"
     ]
    },
    {
     "name": "stderr",
     "output_type": "stream",
     "text": [
      "/tmp/ipykernel_13826/3564774858.py:98: UserWarning: Column names longer than 10 characters will be truncated when saved to ESRI Shapefile.\n",
      "  gdf_polygons.to_file(shapefile_name)\n"
     ]
    },
    {
     "name": "stdout",
     "output_type": "stream",
     "text": [
      "Data for West_Midlands, grassy_sports_fields_tags, 2020 saved successfully.\n"
     ]
    },
    {
     "name": "stderr",
     "output_type": "stream",
     "text": [
      "/tmp/ipykernel_13826/3564774858.py:98: UserWarning: Column names longer than 10 characters will be truncated when saved to ESRI Shapefile.\n",
      "  gdf_polygons.to_file(shapefile_name)\n"
     ]
    },
    {
     "name": "stdout",
     "output_type": "stream",
     "text": [
      "Data for West_Midlands, natural_tags, 2021 saved successfully.\n"
     ]
    },
    {
     "name": "stderr",
     "output_type": "stream",
     "text": [
      "/tmp/ipykernel_13826/3564774858.py:98: UserWarning: Column names longer than 10 characters will be truncated when saved to ESRI Shapefile.\n",
      "  gdf_polygons.to_file(shapefile_name)\n"
     ]
    },
    {
     "name": "stdout",
     "output_type": "stream",
     "text": [
      "Data for West_Midlands, agricultural_tags, 2021 saved successfully.\n"
     ]
    },
    {
     "name": "stderr",
     "output_type": "stream",
     "text": [
      "/tmp/ipykernel_13826/3564774858.py:98: UserWarning: Column names longer than 10 characters will be truncated when saved to ESRI Shapefile.\n",
      "  gdf_polygons.to_file(shapefile_name)\n"
     ]
    },
    {
     "name": "stdout",
     "output_type": "stream",
     "text": [
      "Data for West_Midlands, human_managed_green_spaces_tags, 2021 saved successfully.\n"
     ]
    },
    {
     "name": "stderr",
     "output_type": "stream",
     "text": [
      "/tmp/ipykernel_13826/3564774858.py:98: UserWarning: Column names longer than 10 characters will be truncated when saved to ESRI Shapefile.\n",
      "  gdf_polygons.to_file(shapefile_name)\n"
     ]
    },
    {
     "name": "stdout",
     "output_type": "stream",
     "text": [
      "Data for West_Midlands, urban_green_infrastructure_tags, 2021 saved successfully.\n"
     ]
    },
    {
     "name": "stderr",
     "output_type": "stream",
     "text": [
      "/tmp/ipykernel_13826/3564774858.py:98: UserWarning: Column names longer than 10 characters will be truncated when saved to ESRI Shapefile.\n",
      "  gdf_polygons.to_file(shapefile_name)\n"
     ]
    },
    {
     "name": "stdout",
     "output_type": "stream",
     "text": [
      "Data for West_Midlands, grassy_sports_fields_tags, 2021 saved successfully.\n"
     ]
    },
    {
     "name": "stderr",
     "output_type": "stream",
     "text": [
      "/tmp/ipykernel_13826/3564774858.py:98: UserWarning: Column names longer than 10 characters will be truncated when saved to ESRI Shapefile.\n",
      "  gdf_polygons.to_file(shapefile_name)\n"
     ]
    },
    {
     "name": "stdout",
     "output_type": "stream",
     "text": [
      "Data for West_Midlands, natural_tags, 2022 saved successfully.\n"
     ]
    },
    {
     "name": "stderr",
     "output_type": "stream",
     "text": [
      "/tmp/ipykernel_13826/3564774858.py:98: UserWarning: Column names longer than 10 characters will be truncated when saved to ESRI Shapefile.\n",
      "  gdf_polygons.to_file(shapefile_name)\n"
     ]
    },
    {
     "name": "stdout",
     "output_type": "stream",
     "text": [
      "Data for West_Midlands, agricultural_tags, 2022 saved successfully.\n"
     ]
    },
    {
     "name": "stderr",
     "output_type": "stream",
     "text": [
      "/tmp/ipykernel_13826/3564774858.py:98: UserWarning: Column names longer than 10 characters will be truncated when saved to ESRI Shapefile.\n",
      "  gdf_polygons.to_file(shapefile_name)\n"
     ]
    },
    {
     "name": "stdout",
     "output_type": "stream",
     "text": [
      "Data for West_Midlands, human_managed_green_spaces_tags, 2022 saved successfully.\n"
     ]
    },
    {
     "name": "stderr",
     "output_type": "stream",
     "text": [
      "/tmp/ipykernel_13826/3564774858.py:98: UserWarning: Column names longer than 10 characters will be truncated when saved to ESRI Shapefile.\n",
      "  gdf_polygons.to_file(shapefile_name)\n"
     ]
    },
    {
     "name": "stdout",
     "output_type": "stream",
     "text": [
      "Data for West_Midlands, urban_green_infrastructure_tags, 2022 saved successfully.\n"
     ]
    },
    {
     "name": "stderr",
     "output_type": "stream",
     "text": [
      "/tmp/ipykernel_13826/3564774858.py:98: UserWarning: Column names longer than 10 characters will be truncated when saved to ESRI Shapefile.\n",
      "  gdf_polygons.to_file(shapefile_name)\n"
     ]
    },
    {
     "name": "stdout",
     "output_type": "stream",
     "text": [
      "Data for West_Midlands, grassy_sports_fields_tags, 2022 saved successfully.\n"
     ]
    },
    {
     "name": "stderr",
     "output_type": "stream",
     "text": [
      "/tmp/ipykernel_13826/3564774858.py:98: UserWarning: Column names longer than 10 characters will be truncated when saved to ESRI Shapefile.\n",
      "  gdf_polygons.to_file(shapefile_name)\n"
     ]
    },
    {
     "name": "stdout",
     "output_type": "stream",
     "text": [
      "Data for West_Midlands, natural_tags, 2023 saved successfully.\n"
     ]
    },
    {
     "name": "stderr",
     "output_type": "stream",
     "text": [
      "/tmp/ipykernel_13826/3564774858.py:98: UserWarning: Column names longer than 10 characters will be truncated when saved to ESRI Shapefile.\n",
      "  gdf_polygons.to_file(shapefile_name)\n"
     ]
    },
    {
     "name": "stdout",
     "output_type": "stream",
     "text": [
      "Data for West_Midlands, agricultural_tags, 2023 saved successfully.\n"
     ]
    },
    {
     "name": "stderr",
     "output_type": "stream",
     "text": [
      "/tmp/ipykernel_13826/3564774858.py:98: UserWarning: Column names longer than 10 characters will be truncated when saved to ESRI Shapefile.\n",
      "  gdf_polygons.to_file(shapefile_name)\n"
     ]
    },
    {
     "name": "stdout",
     "output_type": "stream",
     "text": [
      "Data for West_Midlands, human_managed_green_spaces_tags, 2023 saved successfully.\n"
     ]
    },
    {
     "name": "stderr",
     "output_type": "stream",
     "text": [
      "/tmp/ipykernel_13826/3564774858.py:98: UserWarning: Column names longer than 10 characters will be truncated when saved to ESRI Shapefile.\n",
      "  gdf_polygons.to_file(shapefile_name)\n"
     ]
    },
    {
     "name": "stdout",
     "output_type": "stream",
     "text": [
      "Data for West_Midlands, urban_green_infrastructure_tags, 2023 saved successfully.\n"
     ]
    },
    {
     "name": "stderr",
     "output_type": "stream",
     "text": [
      "/tmp/ipykernel_13826/3564774858.py:98: UserWarning: Column names longer than 10 characters will be truncated when saved to ESRI Shapefile.\n",
      "  gdf_polygons.to_file(shapefile_name)\n"
     ]
    },
    {
     "name": "stdout",
     "output_type": "stream",
     "text": [
      "Data for West_Midlands, grassy_sports_fields_tags, 2023 saved successfully.\n"
     ]
    }
   ],
   "source": [
    "import requests\n",
    "import geopandas as gpd\n",
    "import json\n",
    "from shapely.geometry import Polygon\n",
    "import pandas as pd\n",
    "\n",
    "url = \"https://api.ohsome.org/v1/elements/geometry\"\n",
    "\n",
    "geojsons = [\n",
    "    {\n",
    "        \"type\": \"FeatureCollection\",\n",
    "        \"features\": [{\n",
    "            \"type\": \"Feature\",\n",
    "            \"properties\": {},\n",
    "            \"geometry\": {\n",
    "                \"type\": \"Polygon\",\n",
    "                \"coordinates\": [ # Manchester\n",
    "                    [\n",
    "                        [-2.7799, 53.2990],  # Bottom-left\n",
    "                        [-1.8481, 53.2876],  # Bottom-right\n",
    "                        [-1.8443, 53.7035],  # Top-right\n",
    "                        [-2.7992, 53.7161],  # Top-left\n",
    "                        [-2.7799, 53.2990]  # Closing the polygon\n",
    "                    ]\n",
    "                ]\n",
    "            }\n",
    "        }]\n",
    "    },\n",
    "    {\n",
    "        \"type\": \"FeatureCollection\",\n",
    "        \"features\": [{\n",
    "            \"type\": \"Feature\",\n",
    "            \"properties\": {},\n",
    "            \"geometry\": {\n",
    "                \"type\": \"Polygon\",\n",
    "                \"coordinates\": [ # London\n",
    "                    [\n",
    "                        [-0.5589, 51.2864],  # Bottom-left\n",
    "                        [0.3832, 51.2561],   # Bottom-right\n",
    "                        [0.3652, 51.6954],   # Top-right\n",
    "                        [-0.5614, 51.7104],  # Top-left\n",
    "                        [-0.5589, 51.2864]   # Closing the polygon\n",
    "                    ]\n",
    "                ]\n",
    "            }\n",
    "        }]\n",
    "    },\n",
    "    {\n",
    "        \"type\": \"FeatureCollection\",\n",
    "        \"features\": [{\n",
    "            \"type\": \"Feature\",\n",
    "            \"properties\": {},\n",
    "            \"geometry\": {\n",
    "                \"type\": \"Polygon\",\n",
    "                \"coordinates\": [ # Birmingham\n",
    "                    [\n",
    "                        [-2.2410, 52.3210],  # Bottom-left\n",
    "                        [-1.3853, 52.3304],   # Bottom-right\n",
    "                        [-1.3871, 52.6781],   # Top-right\n",
    "                        [-2.2630, 52.6814],  # Top-left\n",
    "                        [-2.2410, 52.3210]   # Closing the polygon\n",
    "                    ]\n",
    "                ]\n",
    "            }\n",
    "        }]\n",
    "    }\n",
    "]\n",
    "categories = {\n",
    "    'natural_tags': 'landuse in (forest, wood, meadow) or natural in (tree, tree_group, grassland, fell, heath, scrub, wetland, moor, marsh, wood)',\n",
    "    'agricultural_tags': 'landuse in (allotments, farmland, farmyard, orchard, plant_nursery, vineyard)',\n",
    "    'human_managed_green_spaces_tags': 'landuse in (recreation_ground, village_green, greenfield, plant_nursery) or leisure in (garden, nature_reserve, park, public_garden) or garden:type in (residential, community, botanical, arboretum)',\n",
    "    'urban_green_infrastructure_tags': 'man_made=bioswale or roof:material in (grass, plants, roof_greening) or garden:type in (green_wall, show_garden, roof_garden, residential) or natural in (tree_row, shrubbery)',\n",
    "    'grassy_sports_fields_tags': 'sport in (american_football, archery, australian_football, baseball, bowls, canadian_football, cricket, croquet, equestrian, lacrosse, golf, rugby_league, rugby_union, soccer, softball, orienteering) or leisure in (miniature_golf, disc_golf_course, golf_course, pitch)'\n",
    "}\n",
    "\n",
    "\n",
    "for geojson, city_name in zip(geojsons, [\"Greater_Manchester\", \"Greater_London\", \"West_Midlands\"]):\n",
    "    for year in range(2015, 2024, 1):  \n",
    "        idx = 0\n",
    "        for category_name, category_filter in categories.items():\n",
    "            params = {\n",
    "                'bpolys': json.dumps(geojson),\n",
    "                'time': f'{year}-01-01',\n",
    "                'filter': f\"type:way and ({category_filter})\"\n",
    "            }\n",
    "\n",
    "            response = requests.get(url, params=params)\n",
    "            if response.status_code == 200:\n",
    "                data = response.json()\n",
    "                gdf = gpd.GeoDataFrame.from_features(data['features'], crs='epsg:4326')\n",
    "                \n",
    "                if not gdf.empty:\n",
    "                    gdf_polygons = gdf[gdf.geometry.type.isin(['Polygon', 'MultiPolygon'])]\n",
    "                    gdf_polygons = gdf_polygons.to_crs(epsg=27700)  # British National Grid\n",
    "\n",
    "                    # Save to a shapefile with the new CRS\n",
    "                    shapefile_name = f\"PastPolygons/{city_name}_tag{idx}_{year}.shp\"\n",
    "                    gdf_polygons.to_file(shapefile_name)\n",
    "\n",
    "                    print(f\"Data for {city_name}, {category_name}, {year} saved successfully.\")\n",
    "                else:\n",
    "                    print(f\"No polygon data available for {city_name}, {year}.\")\n",
    "            else:\n",
    "                print(f\"Failed to fetch data for {city_name}, {year}: {response.status_code}, {response.text}\")\n",
    "            idx += 1"
   ]
  },
  {
   "cell_type": "markdown",
   "id": "b3fadcb0-cfab-4385-ae56-a73fdd09d903",
   "metadata": {},
   "source": [
    "# Downloading building polygons"
   ]
  },
  {
   "cell_type": "code",
   "execution_count": 4,
   "id": "5a732b90-5040-44e9-a357-5f56a71f33b3",
   "metadata": {
    "scrolled": true
   },
   "outputs": [
    {
     "name": "stderr",
     "output_type": "stream",
     "text": [
      "/tmp/ipykernel_650/3162557895.py:94: UserWarning: Column names longer than 10 characters will be truncated when saved to ESRI Shapefile.\n",
      "  gdf_polygons.to_file(shapefile_name)\n"
     ]
    },
    {
     "name": "stdout",
     "output_type": "stream",
     "text": [
      "Data for Greater_Manchester, building_tags, 2015 saved successfully.\n"
     ]
    },
    {
     "name": "stderr",
     "output_type": "stream",
     "text": [
      "/tmp/ipykernel_650/3162557895.py:94: UserWarning: Column names longer than 10 characters will be truncated when saved to ESRI Shapefile.\n",
      "  gdf_polygons.to_file(shapefile_name)\n"
     ]
    },
    {
     "name": "stdout",
     "output_type": "stream",
     "text": [
      "Data for Greater_Manchester, building_tags, 2016 saved successfully.\n"
     ]
    },
    {
     "name": "stderr",
     "output_type": "stream",
     "text": [
      "/tmp/ipykernel_650/3162557895.py:94: UserWarning: Column names longer than 10 characters will be truncated when saved to ESRI Shapefile.\n",
      "  gdf_polygons.to_file(shapefile_name)\n"
     ]
    },
    {
     "name": "stdout",
     "output_type": "stream",
     "text": [
      "Data for Greater_Manchester, building_tags, 2017 saved successfully.\n"
     ]
    },
    {
     "name": "stderr",
     "output_type": "stream",
     "text": [
      "/tmp/ipykernel_650/3162557895.py:94: UserWarning: Column names longer than 10 characters will be truncated when saved to ESRI Shapefile.\n",
      "  gdf_polygons.to_file(shapefile_name)\n"
     ]
    },
    {
     "name": "stdout",
     "output_type": "stream",
     "text": [
      "Data for Greater_Manchester, building_tags, 2018 saved successfully.\n"
     ]
    },
    {
     "name": "stderr",
     "output_type": "stream",
     "text": [
      "/tmp/ipykernel_650/3162557895.py:94: UserWarning: Column names longer than 10 characters will be truncated when saved to ESRI Shapefile.\n",
      "  gdf_polygons.to_file(shapefile_name)\n"
     ]
    },
    {
     "name": "stdout",
     "output_type": "stream",
     "text": [
      "Data for Greater_Manchester, building_tags, 2019 saved successfully.\n"
     ]
    },
    {
     "name": "stderr",
     "output_type": "stream",
     "text": [
      "/tmp/ipykernel_650/3162557895.py:94: UserWarning: Column names longer than 10 characters will be truncated when saved to ESRI Shapefile.\n",
      "  gdf_polygons.to_file(shapefile_name)\n"
     ]
    },
    {
     "name": "stdout",
     "output_type": "stream",
     "text": [
      "Data for Greater_Manchester, building_tags, 2020 saved successfully.\n"
     ]
    },
    {
     "name": "stderr",
     "output_type": "stream",
     "text": [
      "/tmp/ipykernel_650/3162557895.py:94: UserWarning: Column names longer than 10 characters will be truncated when saved to ESRI Shapefile.\n",
      "  gdf_polygons.to_file(shapefile_name)\n"
     ]
    },
    {
     "name": "stdout",
     "output_type": "stream",
     "text": [
      "Data for Greater_Manchester, building_tags, 2021 saved successfully.\n"
     ]
    },
    {
     "name": "stderr",
     "output_type": "stream",
     "text": [
      "/tmp/ipykernel_650/3162557895.py:94: UserWarning: Column names longer than 10 characters will be truncated when saved to ESRI Shapefile.\n",
      "  gdf_polygons.to_file(shapefile_name)\n"
     ]
    },
    {
     "name": "stdout",
     "output_type": "stream",
     "text": [
      "Data for Greater_Manchester, building_tags, 2022 saved successfully.\n"
     ]
    },
    {
     "name": "stderr",
     "output_type": "stream",
     "text": [
      "/tmp/ipykernel_650/3162557895.py:94: UserWarning: Column names longer than 10 characters will be truncated when saved to ESRI Shapefile.\n",
      "  gdf_polygons.to_file(shapefile_name)\n"
     ]
    },
    {
     "name": "stdout",
     "output_type": "stream",
     "text": [
      "Data for Greater_Manchester, building_tags, 2023 saved successfully.\n"
     ]
    },
    {
     "name": "stderr",
     "output_type": "stream",
     "text": [
      "/tmp/ipykernel_650/3162557895.py:94: UserWarning: Column names longer than 10 characters will be truncated when saved to ESRI Shapefile.\n",
      "  gdf_polygons.to_file(shapefile_name)\n"
     ]
    },
    {
     "name": "stdout",
     "output_type": "stream",
     "text": [
      "Data for Greater_London, building_tags, 2015 saved successfully.\n"
     ]
    },
    {
     "name": "stderr",
     "output_type": "stream",
     "text": [
      "/tmp/ipykernel_650/3162557895.py:94: UserWarning: Column names longer than 10 characters will be truncated when saved to ESRI Shapefile.\n",
      "  gdf_polygons.to_file(shapefile_name)\n"
     ]
    },
    {
     "name": "stdout",
     "output_type": "stream",
     "text": [
      "Data for Greater_London, building_tags, 2016 saved successfully.\n"
     ]
    },
    {
     "name": "stderr",
     "output_type": "stream",
     "text": [
      "/tmp/ipykernel_650/3162557895.py:94: UserWarning: Column names longer than 10 characters will be truncated when saved to ESRI Shapefile.\n",
      "  gdf_polygons.to_file(shapefile_name)\n"
     ]
    },
    {
     "name": "stdout",
     "output_type": "stream",
     "text": [
      "Data for Greater_London, building_tags, 2017 saved successfully.\n"
     ]
    },
    {
     "name": "stderr",
     "output_type": "stream",
     "text": [
      "/tmp/ipykernel_650/3162557895.py:94: UserWarning: Column names longer than 10 characters will be truncated when saved to ESRI Shapefile.\n",
      "  gdf_polygons.to_file(shapefile_name)\n"
     ]
    },
    {
     "name": "stdout",
     "output_type": "stream",
     "text": [
      "Data for Greater_London, building_tags, 2018 saved successfully.\n"
     ]
    },
    {
     "name": "stderr",
     "output_type": "stream",
     "text": [
      "/tmp/ipykernel_650/3162557895.py:94: UserWarning: Column names longer than 10 characters will be truncated when saved to ESRI Shapefile.\n",
      "  gdf_polygons.to_file(shapefile_name)\n"
     ]
    },
    {
     "name": "stdout",
     "output_type": "stream",
     "text": [
      "Data for Greater_London, building_tags, 2019 saved successfully.\n"
     ]
    },
    {
     "name": "stderr",
     "output_type": "stream",
     "text": [
      "/tmp/ipykernel_650/3162557895.py:94: UserWarning: Column names longer than 10 characters will be truncated when saved to ESRI Shapefile.\n",
      "  gdf_polygons.to_file(shapefile_name)\n"
     ]
    },
    {
     "name": "stdout",
     "output_type": "stream",
     "text": [
      "Data for Greater_London, building_tags, 2020 saved successfully.\n"
     ]
    },
    {
     "name": "stderr",
     "output_type": "stream",
     "text": [
      "/tmp/ipykernel_650/3162557895.py:94: UserWarning: Column names longer than 10 characters will be truncated when saved to ESRI Shapefile.\n",
      "  gdf_polygons.to_file(shapefile_name)\n"
     ]
    },
    {
     "name": "stdout",
     "output_type": "stream",
     "text": [
      "Data for Greater_London, building_tags, 2021 saved successfully.\n"
     ]
    },
    {
     "name": "stderr",
     "output_type": "stream",
     "text": [
      "/tmp/ipykernel_650/3162557895.py:94: UserWarning: Column names longer than 10 characters will be truncated when saved to ESRI Shapefile.\n",
      "  gdf_polygons.to_file(shapefile_name)\n"
     ]
    },
    {
     "name": "stdout",
     "output_type": "stream",
     "text": [
      "Data for Greater_London, building_tags, 2022 saved successfully.\n"
     ]
    },
    {
     "name": "stderr",
     "output_type": "stream",
     "text": [
      "/tmp/ipykernel_650/3162557895.py:94: UserWarning: Column names longer than 10 characters will be truncated when saved to ESRI Shapefile.\n",
      "  gdf_polygons.to_file(shapefile_name)\n"
     ]
    },
    {
     "name": "stdout",
     "output_type": "stream",
     "text": [
      "Data for Greater_London, building_tags, 2023 saved successfully.\n"
     ]
    },
    {
     "name": "stderr",
     "output_type": "stream",
     "text": [
      "/tmp/ipykernel_650/3162557895.py:94: UserWarning: Column names longer than 10 characters will be truncated when saved to ESRI Shapefile.\n",
      "  gdf_polygons.to_file(shapefile_name)\n"
     ]
    },
    {
     "name": "stdout",
     "output_type": "stream",
     "text": [
      "Data for West_Midlands, building_tags, 2015 saved successfully.\n"
     ]
    },
    {
     "name": "stderr",
     "output_type": "stream",
     "text": [
      "/tmp/ipykernel_650/3162557895.py:94: UserWarning: Column names longer than 10 characters will be truncated when saved to ESRI Shapefile.\n",
      "  gdf_polygons.to_file(shapefile_name)\n"
     ]
    },
    {
     "name": "stdout",
     "output_type": "stream",
     "text": [
      "Data for West_Midlands, building_tags, 2016 saved successfully.\n"
     ]
    },
    {
     "name": "stderr",
     "output_type": "stream",
     "text": [
      "/tmp/ipykernel_650/3162557895.py:94: UserWarning: Column names longer than 10 characters will be truncated when saved to ESRI Shapefile.\n",
      "  gdf_polygons.to_file(shapefile_name)\n"
     ]
    },
    {
     "name": "stdout",
     "output_type": "stream",
     "text": [
      "Data for West_Midlands, building_tags, 2017 saved successfully.\n"
     ]
    },
    {
     "name": "stderr",
     "output_type": "stream",
     "text": [
      "/tmp/ipykernel_650/3162557895.py:94: UserWarning: Column names longer than 10 characters will be truncated when saved to ESRI Shapefile.\n",
      "  gdf_polygons.to_file(shapefile_name)\n"
     ]
    },
    {
     "name": "stdout",
     "output_type": "stream",
     "text": [
      "Data for West_Midlands, building_tags, 2018 saved successfully.\n"
     ]
    },
    {
     "name": "stderr",
     "output_type": "stream",
     "text": [
      "/tmp/ipykernel_650/3162557895.py:94: UserWarning: Column names longer than 10 characters will be truncated when saved to ESRI Shapefile.\n",
      "  gdf_polygons.to_file(shapefile_name)\n"
     ]
    },
    {
     "name": "stdout",
     "output_type": "stream",
     "text": [
      "Data for West_Midlands, building_tags, 2019 saved successfully.\n"
     ]
    },
    {
     "name": "stderr",
     "output_type": "stream",
     "text": [
      "/tmp/ipykernel_650/3162557895.py:94: UserWarning: Column names longer than 10 characters will be truncated when saved to ESRI Shapefile.\n",
      "  gdf_polygons.to_file(shapefile_name)\n"
     ]
    },
    {
     "name": "stdout",
     "output_type": "stream",
     "text": [
      "Data for West_Midlands, building_tags, 2020 saved successfully.\n"
     ]
    },
    {
     "name": "stderr",
     "output_type": "stream",
     "text": [
      "/tmp/ipykernel_650/3162557895.py:94: UserWarning: Column names longer than 10 characters will be truncated when saved to ESRI Shapefile.\n",
      "  gdf_polygons.to_file(shapefile_name)\n"
     ]
    },
    {
     "name": "stdout",
     "output_type": "stream",
     "text": [
      "Data for West_Midlands, building_tags, 2021 saved successfully.\n"
     ]
    },
    {
     "name": "stderr",
     "output_type": "stream",
     "text": [
      "/tmp/ipykernel_650/3162557895.py:94: UserWarning: Column names longer than 10 characters will be truncated when saved to ESRI Shapefile.\n",
      "  gdf_polygons.to_file(shapefile_name)\n"
     ]
    },
    {
     "name": "stdout",
     "output_type": "stream",
     "text": [
      "Data for West_Midlands, building_tags, 2022 saved successfully.\n"
     ]
    },
    {
     "name": "stderr",
     "output_type": "stream",
     "text": [
      "/tmp/ipykernel_650/3162557895.py:94: UserWarning: Column names longer than 10 characters will be truncated when saved to ESRI Shapefile.\n",
      "  gdf_polygons.to_file(shapefile_name)\n"
     ]
    },
    {
     "name": "stdout",
     "output_type": "stream",
     "text": [
      "Data for West_Midlands, building_tags, 2023 saved successfully.\n"
     ]
    }
   ],
   "source": [
    "import requests\n",
    "import geopandas as gpd\n",
    "import json\n",
    "from shapely.geometry import Polygon\n",
    "import pandas as pd\n",
    "\n",
    "url = \"https://api.ohsome.org/v1/elements/geometry\"\n",
    "\n",
    "geojsons = [\n",
    "    {\n",
    "        \"type\": \"FeatureCollection\",\n",
    "        \"features\": [{\n",
    "            \"type\": \"Feature\",\n",
    "            \"properties\": {},\n",
    "            \"geometry\": {\n",
    "                \"type\": \"Polygon\",\n",
    "                \"coordinates\": [ # Manchester\n",
    "                    [\n",
    "                        [-2.7799, 53.2990],  # Bottom-left\n",
    "                        [-1.8481, 53.2876],  # Bottom-right\n",
    "                        [-1.8443, 53.7035],  # Top-right\n",
    "                        [-2.7992, 53.7161],  # Top-left\n",
    "                        [-2.7799, 53.2990]  # Closing the polygon\n",
    "                    ]\n",
    "                ]\n",
    "            }\n",
    "        }]\n",
    "    },\n",
    "    {\n",
    "        \"type\": \"FeatureCollection\",\n",
    "        \"features\": [{\n",
    "            \"type\": \"Feature\",\n",
    "            \"properties\": {},\n",
    "            \"geometry\": {\n",
    "                \"type\": \"Polygon\",\n",
    "                \"coordinates\": [ # London\n",
    "                    [\n",
    "                        [-0.5589, 51.2864],  # Bottom-left\n",
    "                        [0.3832, 51.2561],   # Bottom-right\n",
    "                        [0.3652, 51.6954],   # Top-right\n",
    "                        [-0.5614, 51.7104],  # Top-left\n",
    "                        [-0.5589, 51.2864]   # Closing the polygon\n",
    "                    ]\n",
    "                ]\n",
    "            }\n",
    "        }]\n",
    "    },\n",
    "    {\n",
    "        \"type\": \"FeatureCollection\",\n",
    "        \"features\": [{\n",
    "            \"type\": \"Feature\",\n",
    "            \"properties\": {},\n",
    "            \"geometry\": {\n",
    "                \"type\": \"Polygon\",\n",
    "                \"coordinates\": [ # Birmingham\n",
    "                    [\n",
    "                        [-2.2410, 52.3210],  # Bottom-left\n",
    "                        [-1.3853, 52.3304],   # Bottom-right\n",
    "                        [-1.3871, 52.6781],   # Top-right\n",
    "                        [-2.2630, 52.6814],  # Top-left\n",
    "                        [-2.2410, 52.3210]   # Closing the polygon\n",
    "                    ]\n",
    "                ]\n",
    "            }\n",
    "        }]\n",
    "    }\n",
    "]\n",
    "categories = {\n",
    "    'building_tags': 'building=*'\n",
    "}\n",
    "\n",
    "\n",
    "for geojson, city_name in zip(geojsons, [\"Greater_Manchester\", \"Greater_London\", \"West_Midlands\"]):\n",
    "    for year in range(2015, 2024, 1):  \n",
    "        idx = 0\n",
    "        for category_name, category_filter in categories.items():\n",
    "            params = {\n",
    "                'bpolys': json.dumps(geojson),\n",
    "                'time': f'{year}-01-01',\n",
    "                'filter': f\"type:way and ({category_filter})\"\n",
    "            }\n",
    "\n",
    "            response = requests.get(url, params=params)\n",
    "            if response.status_code == 200:\n",
    "                data = response.json()\n",
    "                gdf = gpd.GeoDataFrame.from_features(data['features'], crs='epsg:4326')\n",
    "                \n",
    "                if not gdf.empty:\n",
    "                    gdf_polygons = gdf[gdf.geometry.type.isin(['Polygon', 'MultiPolygon'])]\n",
    "                    gdf_polygons = gdf_polygons.to_crs(epsg=27700)  # British National Grid\n",
    "\n",
    "                    # Save to a shapefile with the new CRS\n",
    "                    shapefile_name = f\"PastPolygons/{city_name}_tag5_{year}.shp\"\n",
    "                    gdf_polygons.to_file(shapefile_name)\n",
    "\n",
    "                    print(f\"Data for {city_name}, {category_name}, {year} saved successfully.\")\n",
    "                else:\n",
    "                    print(f\"No polygon data available for {city_name}, {year}.\")\n",
    "            else:\n",
    "                print(f\"Failed to fetch data for {city_name}, {year}: {response.status_code}, {response.text}\")\n",
    "            idx += 1"
   ]
  },
  {
   "cell_type": "markdown",
   "id": "7868c73f-e063-4745-865e-310e0a6c5535",
   "metadata": {},
   "source": [
    "# Combinding buildings and GI"
   ]
  },
  {
   "cell_type": "code",
   "execution_count": null,
   "id": "bd191d57-ea87-4c5a-b1f3-c664d0955550",
   "metadata": {},
   "outputs": [],
   "source": [
    "import geopandas as gpd\n",
    "import os\n",
    "\n",
    "def combine_shapefiles(output_path, city_name, start_year, end_year, tags):\n",
    "    combined_gdf = gpd.GeoDataFrame()\n",
    "    \n",
    "    for year in range(start_year, end_year + 1):\n",
    "        for idx in range(tags):\n",
    "            shapefile_path = f\"PastPolygons/{city_name}_tag{idx}_{year}.shp\"\n",
    "            \n",
    "            if os.path.exists(shapefile_path):\n",
    "                gdf = gpd.read_file(shapefile_path)\n",
    "                combined_gdf = combined_gdf.append(gdf, ignore_index=True)\n",
    "            else:\n",
    "                print(f\"Shapefile {shapefile_path} does not exist.\")\n",
    "    \n",
    "    if not combined_gdf.empty:\n",
    "        combined_gdf.to_file(output_path)\n",
    "        print(f\"Combined shapefile saved to {output_path}\")\n",
    "    else:\n",
    "        print(f\"No shapefiles found for {city_name}.\")\n",
    "\n",
    "# Parameters\n",
    "start_year = 2015\n",
    "end_year = 2023\n",
    "tags = 6\n",
    "cities = [\"Greater_Manchester\", \"Greater_London\", \"West_Midlands\"]\n",
    "\n",
    "# Combine shapefiles for each city\n",
    "for city in cities:\n",
    "    output_shapefile = f\"CombinedPolygons/{city}_combined.shp\"\n",
    "    combine_shapefiles(output_shapefile, city, start_year, end_year, tags)"
   ]
  },
  {
   "cell_type": "markdown",
   "id": "7afc6823",
   "metadata": {},
   "source": [
    "## Combining by years"
   ]
  },
  {
   "cell_type": "code",
   "execution_count": null,
   "id": "bc03ab99",
   "metadata": {},
   "outputs": [],
   "source": [
    "def combine_shapefiles(city_name, start_year, end_year, tags): \n",
    "    for year in range(start_year, end_year + 1):\n",
    "        combined_gdf_list = []\n",
    "        output_shapefile = f\"{city_name}_{year}_combined.shp\"\n",
    "        \n",
    "        for idx in range(tags):\n",
    "            shapefile_path = f\"{city_name}_tag{idx}_{year}.shp\"\n",
    "            \n",
    "            if os.path.exists(shapefile_path):\n",
    "                gdf = gpd.read_file(shapefile_path)\n",
    "                if idx != 5:\n",
    "                    gdf[\"general\"] = 'vegetation'\n",
    "                    gdf[\"tag\"] = idx\n",
    "                    \n",
    "                else:\n",
    "                    gdf[\"building\"] = 'yes'                  \n",
    "                combined_gdf_list.append(gdf)\n",
    "            else:\n",
    "                print(f\"Shapefile {shapefile_path} does not exist.\")\n",
    "    \n",
    "        if combined_gdf_list:\n",
    "            combined_gdf = pd.concat(combined_gdf_list, ignore_index=True)\n",
    "            combined_gdf.to_file(output_shapefile)\n",
    "            print(f\"Combined shapefile for {city_name}, {year} saved to {output_shapefile}\")\n",
    "        else:\n",
    "            print(f\"No shapefiles found for {city_name}, {year}.\")\n",
    "\n",
    "# Parameters\n",
    "start_year = 2015\n",
    "end_year = 2023\n",
    "tags = 6\n",
    "cities = [\"Greater_Manchester\", \"Greater_London\", \"West_Midlands\"]\n",
    "\n",
    "for city in cities:\n",
    "    combine_shapefiles(city, start_year, end_year, tags)\n"
   ]
  },
  {
   "cell_type": "markdown",
   "id": "a30cec91",
   "metadata": {},
   "source": [
    "## Clipping the combined shp files with the city boundaries"
   ]
  },
  {
   "cell_type": "code",
   "execution_count": null,
   "id": "5ea19855",
   "metadata": {},
   "outputs": [],
   "source": [
    "def validate_and_fix_geometries(gdf):\n",
    "    # Fix invalid geometries\n",
    "    gdf['geometry'] = gdf['geometry'].apply(lambda geom: geom.buffer(0) if not geom.is_valid else geom)\n",
    "    # Remove empty geometries\n",
    "    gdf = gdf[~gdf.is_empty]\n",
    "    return gdf\n",
    "\n",
    "\n",
    "def clip_to_boundary(combined_shapefile, boundary_shapefile, output_shapefile):\n",
    "    try:\n",
    "        # Read the combined shapefile and boundary shapefile\n",
    "        combined_gdf = gpd.read_file(combined_shapefile)\n",
    "        boundary_gdf = gpd.read_file(boundary_shapefile)\n",
    "        \n",
    "        # Validate and fix geometries\n",
    "        combined_gdf = validate_and_fix_geometries(combined_gdf)\n",
    "        boundary_gdf = validate_and_fix_geometries(boundary_gdf)\n",
    "        \n",
    "        # Ensure both GeoDataFrames have the same CRS\n",
    "        if combined_gdf.crs != boundary_gdf.crs:\n",
    "            print(\"Warning: CRS different, reprojecting boundary shapefile.\")\n",
    "            boundary_gdf = boundary_gdf.to_crs(combined_gdf.crs)\n",
    "        \n",
    "        # Clip combined_gdf to the boundary\n",
    "        clipped_gdf = gpd.clip(combined_gdf, boundary_gdf)\n",
    "        \n",
    "        # Save the clipped GeoDataFrame to a new shapefile\n",
    "        clipped_gdf.to_file(output_shapefile)\n",
    "        print(f\"Clipped shapefile saved to {output_shapefile}\")\n",
    "    except Exception as e:\n",
    "        print(f\"Error processing {combined_shapefile}: {e}\")\n",
    "\n",
    "# Parameters\n",
    "start_year = 2015\n",
    "end_year = 2023\n",
    "cities = [\"Greater_Manchester\", \"Greater_London\", \"West_Midlands\"]\n",
    "\n",
    "# Path to the boundary shapefiles\n",
    "boundary_files = {\n",
    "    \"Greater_Manchester\": \"../Boundaries/LA_Manchester.shp\",\n",
    "    \"Greater_London\": \"../Boundaries/LA_London.shp\",\n",
    "    \"West_Midlands\": \"../Boundaries/LA_Westmidsland.shp\"\n",
    "}\n",
    "\n",
    "def process_city(city_name, start_year, end_year):\n",
    "    for year in range(start_year, end_year + 1):\n",
    "        combined_shapefile = f\"{city_name}_{year}_combined.shp\"\n",
    "        output_shapefile = f\"{city_name}_{year}_clipped.shp\"\n",
    "        \n",
    "        # Get boundary file path\n",
    "        boundary_shapefile = boundary_files.get(city_name)\n",
    "        if boundary_shapefile and os.path.exists(boundary_shapefile):\n",
    "            if os.path.exists(combined_shapefile):\n",
    "                clip_to_boundary(combined_shapefile, boundary_shapefile, output_shapefile)\n",
    "            else:\n",
    "                print(f\"Combined shapefile {combined_shapefile} does not exist.\")\n",
    "        else:\n",
    "            print(f\"Boundary shapefile {boundary_shapefile} does not exist.\")\n",
    "\n",
    "# Process each city\n",
    "for city in cities:\n",
    "    process_city(city, start_year, end_year)"
   ]
  }
 ],
 "metadata": {
  "kernelspec": {
   "display_name": "lse",
   "language": "python",
   "name": "lse"
  },
  "language_info": {
   "codemirror_mode": {
    "name": "ipython",
    "version": 3
   },
   "file_extension": ".py",
   "mimetype": "text/x-python",
   "name": "python",
   "nbconvert_exporter": "python",
   "pygments_lexer": "ipython3",
   "version": "3.12.2"
  }
 },
 "nbformat": 4,
 "nbformat_minor": 5
}
